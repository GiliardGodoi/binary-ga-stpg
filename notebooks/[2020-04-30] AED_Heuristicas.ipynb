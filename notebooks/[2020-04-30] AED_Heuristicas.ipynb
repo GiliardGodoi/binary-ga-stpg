{
 "cells": [
  {
   "cell_type": "code",
   "execution_count": 1,
   "metadata": {},
   "outputs": [],
   "source": [
    "import os\n",
    "\n",
    "# Importando bibliotecas para análise de dados\n",
    "import pandas as pd\n",
    "import numpy as np\n",
    "\n",
    "from matplotlib import pyplot as plt\n",
    "import seaborn as sns\n",
    "\n",
    "plt.rc(\"figure\", figsize=(10,6))"
   ]
  },
  {
   "cell_type": "markdown",
   "metadata": {},
   "source": [
    "Heurísticas empregadas\n",
    "\n",
    "    - PMH - Prunning MST Heuristic\n",
    "    - SPH - Shortest Path Heuristic\n",
    "    - SPHPrim - Shortest Path Heuristic with Prim\n",
    "    - SPHO - Shortest Path Heuristic with Origin"
   ]
  },
  {
   "cell_type": "code",
   "execution_count": 2,
   "metadata": {},
   "outputs": [],
   "source": [
    "HEURISTICAS = [\"PMH\", \"SPH\", \"SPHPrim\", \"SPHO\"]"
   ]
  },
  {
   "cell_type": "code",
   "execution_count": 3,
   "metadata": {},
   "outputs": [
    {
     "name": "stdout",
     "output_type": "stream",
     "text": [
      "<class 'pandas.core.frame.DataFrame'>\n",
      "RangeIndex: 5400 entries, 0 to 5399\n",
      "Data columns (total 7 columns):\n",
      " #   Column          Non-Null Count  Dtype \n",
      "---  ------          --------------  ----- \n",
      " 0   Heuristic       5400 non-null   object\n",
      " 1   Problem         5400 non-null   object\n",
      " 2   Node            5400 non-null   int64 \n",
      " 3   Is terminal     5400 non-null   bool  \n",
      " 4   Cost            5400 non-null   int64 \n",
      " 5   Global Optimum  5400 non-null   int64 \n",
      " 6   Success         5400 non-null   bool  \n",
      "dtypes: bool(2), int64(3), object(2)\n",
      "memory usage: 221.6+ KB\n"
     ]
    }
   ],
   "source": [
    "filename = os.path.join(\"..\", \"outputdata\", \"heuristics\",\"results.csv\")\n",
    "\n",
    "df_data = pd.read_csv(filename)\n",
    "\n",
    "df_data.info()"
   ]
  },
  {
   "cell_type": "code",
   "execution_count": 4,
   "metadata": {},
   "outputs": [
    {
     "data": {
      "text/html": [
       "<div>\n",
       "<style scoped>\n",
       "    .dataframe tbody tr th:only-of-type {\n",
       "        vertical-align: middle;\n",
       "    }\n",
       "\n",
       "    .dataframe tbody tr th {\n",
       "        vertical-align: top;\n",
       "    }\n",
       "\n",
       "    .dataframe thead th {\n",
       "        text-align: right;\n",
       "    }\n",
       "</style>\n",
       "<table border=\"1\" class=\"dataframe\">\n",
       "  <thead>\n",
       "    <tr style=\"text-align: right;\">\n",
       "      <th></th>\n",
       "      <th>Heuristic</th>\n",
       "      <th>Problem</th>\n",
       "      <th>Node</th>\n",
       "      <th>Is terminal</th>\n",
       "      <th>Cost</th>\n",
       "      <th>Global Optimum</th>\n",
       "      <th>Success</th>\n",
       "    </tr>\n",
       "  </thead>\n",
       "  <tbody>\n",
       "    <tr>\n",
       "      <th>0</th>\n",
       "      <td>PMH</td>\n",
       "      <td>B1</td>\n",
       "      <td>1</td>\n",
       "      <td>False</td>\n",
       "      <td>88</td>\n",
       "      <td>82</td>\n",
       "      <td>False</td>\n",
       "    </tr>\n",
       "    <tr>\n",
       "      <th>1</th>\n",
       "      <td>PMH</td>\n",
       "      <td>B1</td>\n",
       "      <td>2</td>\n",
       "      <td>False</td>\n",
       "      <td>89</td>\n",
       "      <td>82</td>\n",
       "      <td>False</td>\n",
       "    </tr>\n",
       "    <tr>\n",
       "      <th>2</th>\n",
       "      <td>PMH</td>\n",
       "      <td>B1</td>\n",
       "      <td>3</td>\n",
       "      <td>False</td>\n",
       "      <td>99</td>\n",
       "      <td>82</td>\n",
       "      <td>False</td>\n",
       "    </tr>\n",
       "    <tr>\n",
       "      <th>3</th>\n",
       "      <td>PMH</td>\n",
       "      <td>B1</td>\n",
       "      <td>4</td>\n",
       "      <td>False</td>\n",
       "      <td>89</td>\n",
       "      <td>82</td>\n",
       "      <td>False</td>\n",
       "    </tr>\n",
       "    <tr>\n",
       "      <th>4</th>\n",
       "      <td>PMH</td>\n",
       "      <td>B1</td>\n",
       "      <td>5</td>\n",
       "      <td>False</td>\n",
       "      <td>89</td>\n",
       "      <td>82</td>\n",
       "      <td>False</td>\n",
       "    </tr>\n",
       "  </tbody>\n",
       "</table>\n",
       "</div>"
      ],
      "text/plain": [
       "  Heuristic Problem  Node  Is terminal  Cost  Global Optimum  Success\n",
       "0       PMH      B1     1        False    88              82    False\n",
       "1       PMH      B1     2        False    89              82    False\n",
       "2       PMH      B1     3        False    99              82    False\n",
       "3       PMH      B1     4        False    89              82    False\n",
       "4       PMH      B1     5        False    89              82    False"
      ]
     },
     "execution_count": 4,
     "metadata": {},
     "output_type": "execute_result"
    }
   ],
   "source": [
    "df_data.head()"
   ]
  },
  {
   "cell_type": "code",
   "execution_count": 5,
   "metadata": {},
   "outputs": [],
   "source": [
    "def boxplot_heuristics(dataset,show=False):\n",
    "    fig = plt.figure(figsize=(12,6))\n",
    "\n",
    "    sns.boxplot(x=\"Cost\", \n",
    "                y=\"Heuristic\",\n",
    "                data=df_data[df_data['Problem'] == dataset],\n",
    "                palette=\"vlag\",\n",
    "               )\n",
    "\n",
    "    plt.title(label=f'Variação dos resultados para instância {dataset}')\n",
    "    plt.xlabel(\"Custo\")\n",
    "    plt.ylabel(\"Heurística\")\n",
    "\n",
    "    fig.savefig(f\"boxplot_{dataset}.png\")\n",
    "    \n",
    "    if not show:\n",
    "        plt.close()"
   ]
  },
  {
   "cell_type": "code",
   "execution_count": 6,
   "metadata": {},
   "outputs": [],
   "source": [
    "instances = (f'B{i}' for i in range(1,19))\n",
    "\n",
    "for dataset in instances:\n",
    "    boxplot_heuristics(dataset)"
   ]
  },
  {
   "cell_type": "code",
   "execution_count": 7,
   "metadata": {},
   "outputs": [
    {
     "data": {
      "image/png": "[encoded data removed]",
      "text/plain": [
       "<Figure size 864x432 with 1 Axes>"
      ]
     },
     "metadata": {
      "needs_background": "light"
     },
     "output_type": "display_data"
    }
   ],
   "source": [
    "boxplot_heuristics(\"B1\", show=True)"
   ]
  },
  {
   "cell_type": "code",
   "execution_count": 8,
   "metadata": {},
   "outputs": [
    {
     "data": {
      "image/png": "[encoded data removed]",
      "text/plain": [
       "<Figure size 864x432 with 1 Axes>"
      ]
     },
     "metadata": {
      "needs_background": "light"
     },
     "output_type": "display_data"
    }
   ],
   "source": [
    "boxplot_heuristics(\"B18\", show=True)"
   ]
  },
  {
   "cell_type": "code",
   "execution_count": 9,
   "metadata": {},
   "outputs": [],
   "source": [
    "# df_freq = df_data.groupby(['Heuristic', 'Problem', 'Success']) \\\n",
    "#             .agg('count') \\\n",
    "#             .drop(['Is terminal', 'Cost','Global Optimum'], axis='columns')\\\n",
    "#             .rename(columns={\"Node\" : \"Count\"})\n",
    "\n",
    "# df_freq.loc[\"SPHPrim\"]"
   ]
  },
  {
   "cell_type": "code",
   "execution_count": 10,
   "metadata": {},
   "outputs": [],
   "source": [
    "# df = df_freq.unstack().fillna(0).reset_index(\"Heuristic\")"
   ]
  },
  {
   "cell_type": "code",
   "execution_count": null,
   "metadata": {},
   "outputs": [],
   "source": []
  },
  {
   "cell_type": "code",
   "execution_count": null,
   "metadata": {},
   "outputs": [],
   "source": []
  }
 ],
 "metadata": {
  "kernelspec": {
   "display_name": "Python 3.8.2 64-bit ('ppgisteiner': conda)",
   "language": "python",
   "name": "python38264bitppgisteinerconda7461375648ff4cabb4e0c0e4657acb3d"
  },
  "language_info": {
   "codemirror_mode": {
    "name": "ipython",
    "version": 3
   },
   "file_extension": ".py",
   "mimetype": "text/x-python",
   "name": "python",
   "nbconvert_exporter": "python",
   "pygments_lexer": "ipython3",
   "version": "3.8.2"
  }
 },
 "nbformat": 4,
 "nbformat_minor": 4
}
